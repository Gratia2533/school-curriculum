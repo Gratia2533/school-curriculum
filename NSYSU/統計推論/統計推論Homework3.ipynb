{
  "nbformat": 4,
  "nbformat_minor": 0,
  "metadata": {
    "colab": {
      "provenance": []
    },
    "kernelspec": {
      "name": "python3",
      "display_name": "Python 3"
    },
    "language_info": {
      "name": "python"
    }
  },
  "cells": [
    {
      "cell_type": "markdown",
      "source": [
        "#統計推論 Homework3\n",
        "\n",
        "##應數碩一 M112040034 李祐瑄"
      ],
      "metadata": {
        "id": "QO6fpOZQlmT2"
      }
    },
    {
      "cell_type": "markdown",
      "source": [
        "###1.自行按公式寫出Bonferroni、Holm's與FDR調整p-value的函式，並應用於w07投影片第41頁的例子。 "
      ],
      "metadata": {
        "id": "Pf4HXwNYl1Hv"
      }
    },
    {
      "cell_type": "markdown",
      "source": [
        "匯入p-values 以及指定 α"
      ],
      "metadata": {
        "id": "ND9qQklEmIOM"
      }
    },
    {
      "cell_type": "code",
      "execution_count": null,
      "metadata": {
        "id": "7jOAWd8MldRD"
      },
      "outputs": [],
      "source": [
        "import numpy as np\n",
        "p_values = np.array([0.0001, 0.0058, 0.0132, 0.0289, 0.0498, 0.0911, 0.2012, 0.5718, 0.8912, 0.9011])\n",
        "n = len(p_values)\n",
        "alpha = 0.05"
      ]
    },
    {
      "cell_type": "markdown",
      "source": [
        "--------------------------------------------------------------------------------\n",
        "※Bonferroni bound\n",
        "\n",
        "輸出為拒絕哪個假設，以及不拒絕那個假設\n",
        "\n",
        "最後輸出指拒絕了第一個假設"
      ],
      "metadata": {
        "id": "3DFeC8J3mVc_"
      }
    },
    {
      "cell_type": "code",
      "source": [
        "#%%Bonferroni bound\n",
        "print(\"----------Bonferroni bound----------\")\n",
        "# 計算 Bonferroni 校正後的閾值\n",
        "bonferroni_threshold = alpha / n\n",
        "print(\"threshold = \", bonferroni_threshold)\n",
        "# 檢查每個 p-value 是否小於 Bonferroni 校正後的閾值\n",
        "def bonferroni (p_value_arr):\n",
        "    bonff_rejected_hypo=[]\n",
        "    bonferroni_threshold = alpha / n\n",
        "    for i, p in enumerate(p_value_arr):\n",
        "        if p <= bonferroni_threshold:\n",
        "            print(f\"Reject null hypothesis {i+1} for p-value = {p}\")\n",
        "            bonff_rejected_hypo.append(i+1)\n",
        "        else:\n",
        "            print(f\"Fail to reject null hypothesis {i+1} for p-value = {p}\")\n",
        "    return bonff_rejected_hypo\n",
        "\n",
        "print('the rejected null hypothesis by bonferroni bound:', bonferroni(p_values))"
      ],
      "metadata": {
        "colab": {
          "base_uri": "https://localhost:8080/"
        },
        "id": "fDBVwtjymam-",
        "outputId": "876c714a-afc5-4de9-db50-43183e00aedd"
      },
      "execution_count": null,
      "outputs": [
        {
          "output_type": "stream",
          "name": "stdout",
          "text": [
            "----------Bonferroni bound----------\n",
            "threshold =  0.005\n",
            "Reject null hypothesis 1 for p-value = 0.0001\n",
            "Fail to reject null hypothesis 2 for p-value = 0.0058\n",
            "Fail to reject null hypothesis 3 for p-value = 0.0132\n",
            "Fail to reject null hypothesis 4 for p-value = 0.0289\n",
            "Fail to reject null hypothesis 5 for p-value = 0.0498\n",
            "Fail to reject null hypothesis 6 for p-value = 0.0911\n",
            "Fail to reject null hypothesis 7 for p-value = 0.2012\n",
            "Fail to reject null hypothesis 8 for p-value = 0.5718\n",
            "Fail to reject null hypothesis 9 for p-value = 0.8912\n",
            "Fail to reject null hypothesis 10 for p-value = 0.9011\n",
            "the rejected null hypothesis by bonferroni bound: [1]\n"
          ]
        }
      ]
    },
    {
      "cell_type": "markdown",
      "source": [
        "--------------------------------------------------------------------------------\n",
        "※Holm's procedure\n",
        "\n",
        "輸出為拒絕哪個假設，以及不拒絕那個假設\n",
        "\n",
        "最後輸出指拒絕了第一個假設，以此例而言，Bonferroni 與 Holm's的作法，都只拒絕了第一個p-value"
      ],
      "metadata": {
        "id": "rIpHUE4tnTPU"
      }
    },
    {
      "cell_type": "code",
      "source": [
        "#%%Holm's procedure\n",
        "print(\"----------Holm's procedure----------\")\n",
        "# Step 1: 排序p-value\n",
        "sorted_indices = np.argsort(p_values)\n",
        "sorted_p_values = p_values[sorted_indices]\n",
        "print(\"sorted p-value:\", sorted_p_values)\n",
        "print(\"original index of sorted p-values\", sorted_indices+1)\n",
        "# Step 2: 計算調整過後的alpha for each hypothesis\n",
        "thresholds = np.round(alpha / (n - np.arange(n)), 5)\n",
        "\n",
        "def holm (sorted_array):\n",
        "    # Step 3: apply Holm's procedure\n",
        "    rejected = np.zeros_like(sorted_p_values, dtype=bool) # initialize to all false\n",
        "    for i in range(n):\n",
        "        if sorted_p_values[i] <= thresholds[i]:\n",
        "            rejected[i] = True\n",
        "        else:\n",
        "            break # 找到第一個不拒絕的就停止\n",
        "    holm_rejected_hypo=[]\n",
        "    # print the results\n",
        "    for i in range(n):\n",
        "        if rejected[i]:\n",
        "            print(f\"Reject null hypothesis {sorted_indices[i]+1} with p-value {p_values[sorted_indices[i]]:} ≦ threshold = {thresholds[i]}\")\n",
        "            holm_rejected_hypo.append(sorted_indices[i]+1)\n",
        "        else:\n",
        "            print(f\"Fail to reject null hypothesis {sorted_indices[i]+1} with p-value {p_values[sorted_indices[i]]:}.\")\n",
        "    return holm_rejected_hypo\n",
        "\n",
        "print(\"the rejected null hypothesis by holm's procedure:\", holm(sorted_p_values))"
      ],
      "metadata": {
        "colab": {
          "base_uri": "https://localhost:8080/"
        },
        "id": "5VQ2FXR3nWci",
        "outputId": "e274c8bc-c456-46dd-c3a3-796d7f1ac4ab"
      },
      "execution_count": null,
      "outputs": [
        {
          "output_type": "stream",
          "name": "stdout",
          "text": [
            "----------Holm's procedure----------\n",
            "sorted p-value: [1.000e-04 5.800e-03 1.320e-02 2.890e-02 4.980e-02 9.110e-02 2.012e-01\n",
            " 5.718e-01 8.912e-01 9.011e-01]\n",
            "original index of sorted p-values [ 1  2  3  4  5  6  7  8  9 10]\n",
            "Reject null hypothesis 1 with p-value 0.0001 ≦ threshold = 0.005\n",
            "Fail to reject null hypothesis 2 with p-value 0.0058.\n",
            "Fail to reject null hypothesis 3 with p-value 0.0132.\n",
            "Fail to reject null hypothesis 4 with p-value 0.0289.\n",
            "Fail to reject null hypothesis 5 with p-value 0.0498.\n",
            "Fail to reject null hypothesis 6 with p-value 0.0911.\n",
            "Fail to reject null hypothesis 7 with p-value 0.2012.\n",
            "Fail to reject null hypothesis 8 with p-value 0.5718.\n",
            "Fail to reject null hypothesis 9 with p-value 0.8912.\n",
            "Fail to reject null hypothesis 10 with p-value 0.9011.\n",
            "the rejected null hypothesis by holm's procedure: [1]\n"
          ]
        }
      ]
    },
    {
      "cell_type": "markdown",
      "source": [
        "--------------------------------------------------------------------------------\n",
        "※FDR adjust\n",
        "\n",
        "最後的輸出為經過FDR調整後的p-values，以及調整前後有哪些p-value小於0.05，共幾個\n",
        "\n",
        "\n",
        "透過FDR調整p-value，可以控制False Positive Rate的比例，避免在多次比較的情況下產生過多的假陽性結果。使用FDR調整後的p-values，可以看到假設在0.05的顯著性水平下，只有3個p-value小於0.05，而原本有5個p-value小於0.05，顯示使用FDR可以減少FPR的比例。"
      ],
      "metadata": {
        "id": "vSj2YgPVn-ih"
      }
    },
    {
      "cell_type": "code",
      "source": [
        "#%%FDR\n",
        "print(\"----------FDR control----------\")\n",
        "def fdr_adjust(p_values):\n",
        "\n",
        "    m = len(p_values)\n",
        "    #將p-values的順序倒轉\n",
        "    flip_p_values = np.flip(p_values)\n",
        "    adjusted_p_values=np.array([])\n",
        "    for i in range(m):\n",
        "        if i == 0 :\n",
        "            adjusted_p_values = np.append(adjusted_p_values, flip_p_values[i])\n",
        "        else:\n",
        "            #與調整後的p值做比較，較小的存入array\n",
        "            adjusted_p_values = np.append(adjusted_p_values, min(adjusted_p_values[i-1], flip_p_values[i]*m/(10-i)))\n",
        "    \n",
        "    adjusted_p_values = np.round(adjusted_p_values, 4)\n",
        "    #將調整後的p值倒轉回原來的順序以供返回\n",
        "    result = np.flip(adjusted_p_values)\n",
        "    \n",
        "    return result\n",
        "\n",
        "print(\"the p-values adjusted by FDR:\\n\",fdr_adjust(p_values))\n",
        "\n",
        "below_threshold = p_values[p_values<alpha]\n",
        "print(\"the original p-values which are < 0.05:\",below_threshold,', total:',len(below_threshold))\n",
        "below_threshold = fdr_adjust(p_values)[fdr_adjust(p_values)<alpha]\n",
        "print(\"the adjusted p_values which are < 0.05:\",below_threshold,', total:',len(below_threshold))"
      ],
      "metadata": {
        "colab": {
          "base_uri": "https://localhost:8080/"
        },
        "id": "cNX__4dGoAyY",
        "outputId": "b77f6938-3721-4017-b422-0b57b52dba83"
      },
      "execution_count": null,
      "outputs": [
        {
          "output_type": "stream",
          "name": "stdout",
          "text": [
            "----------FDR control----------\n",
            "the p-values adjusted by FDR:\n",
            " [0.001  0.029  0.044  0.0722 0.0996 0.1518 0.2874 0.7148 0.9011 0.9011]\n",
            "the original p-values which are < 0.05: [0.0001 0.0058 0.0132 0.0289 0.0498] , total: 5\n",
            "the adjusted p_values which are < 0.05: [0.001 0.029 0.044] , total: 3\n"
          ]
        }
      ]
    },
    {
      "cell_type": "markdown",
      "source": [
        "###2.根據w10投影片第19頁 a,b,c,d 的設定，在疾病發生率為 20% 與 0.01% 兩種情形下，計算Sensitivity、Specificity、PPV、NPV、PLR與NLR "
      ],
      "metadata": {
        "id": "r9qQxoYaotGW"
      }
    },
    {
      "cell_type": "markdown",
      "source": [
        "Assume N = 100000, b = FP = 10000, c = FN = 2\n",
        "\n",
        "在這個假設下PLR皆約為8，表示\"Moderate evidence to rule in disease\""
      ],
      "metadata": {
        "id": "VjFb2TXMT2uL"
      }
    },
    {
      "cell_type": "code",
      "source": [
        "#a = TP, b = FP, c = FN, d = TN\n",
        "#儲存題目給的兩個疾病發生率\n",
        "import math\n",
        "incident_rate = [0.2, 0.0001] #(a+c)/(a+b+d+c) = (TP+FN)/N\n",
        "#Assume N = 10000, b = FP = 500, c = FN = 1\n",
        "N = 100000\n",
        "b = 10000\n",
        "c = 2\n",
        "for i in range(len(incident_rate)):\n",
        "  #計算所需參數\n",
        "  a_plus_c = round(incident_rate[i]*N,4)\n",
        "  b_plus_d = round(N - a_plus_c,4)\n",
        "  a = round(a_plus_c - c)\n",
        "  d = round(b_plus_d - b)\n",
        "  #計算題目要求\n",
        "  Sensitivity = round(a/(a_plus_c),4)\n",
        "  Specificity = round(d/(b_plus_d),4)\n",
        "  Pos_pred_val = round(a/(a+b),4)\n",
        "  Neg_pred_val = round(d/(c+d),4)\n",
        "  Pos_likelihood_ratio = round(Sensitivity/(1-Specificity)*100 ,4)\n",
        "  Neg_likelihood_ratio = round((1-Sensitivity)/Specificity*100 ,4)\n",
        "  #輸出a,b,c,d各值\n",
        "  print(\"\\n當疾病發生率為:\", round(a/N,4)*100, \"%\") \n",
        "  print('TP = ', a, 'FP = ', b, '\\nFN = ', c, 'TN = ', d)\n",
        "  print(\"Sensitivity = \", Sensitivity, \", Specificity = \", Specificity,\n",
        "    \", PPV = \", Pos_pred_val, \", NPV = \", Neg_pred_val,\n",
        "    \", PLR = \", Pos_likelihood_ratio,\"%\", \", NLR = \", Neg_likelihood_ratio,\"%\")"
      ],
      "metadata": {
        "id": "x90CcBeQpH9b",
        "colab": {
          "base_uri": "https://localhost:8080/"
        },
        "outputId": "2d1f528f-e746-4849-d7a7-d1913b9c7d0c"
      },
      "execution_count": null,
      "outputs": [
        {
          "output_type": "stream",
          "name": "stdout",
          "text": [
            "\n",
            "當疾病發生率為: 20.0 %\n",
            "TP =  19998 FP =  10000 \n",
            "FN =  2 TN =  70000\n",
            "Sensitivity =  0.9999 , Specificity =  0.875 , PPV =  0.6666 , NPV =  1.0 , PLR =  799.92 % , NLR =  0.0114 %\n",
            "\n",
            "當疾病發生率為: 0.01 %\n",
            "TP =  8 FP =  10000 \n",
            "FN =  2 TN =  89990\n",
            "Sensitivity =  0.8 , Specificity =  0.9 , PPV =  0.0008 , NPV =  1.0 , PLR =  800.0 % , NLR =  22.2222 %\n"
          ]
        }
      ]
    },
    {
      "cell_type": "markdown",
      "source": [
        "###3.寫出 w11投影片第25頁Partial Correlation樣本版本的兩種公式(第一種是把第一式中的rho換成r，第二種已經給在第二、三個式子)，並找一個資料的例子，說明兩個公式會得到一樣的結果。"
      ],
      "metadata": {
        "id": "ATOX6EfMpIdM"
      }
    },
    {
      "cell_type": "markdown",
      "source": [
        "data source:https://www.kaggle.com/datasets/sulianova/cardiovascular-disease-dataset\n",
        "\n",
        "使用的column為X = height(cm), Y = weight(kg), Z = age(days)，且皆無NA值\n",
        "\n",
        "兩種式子計算出的Partial Correlation皆為0.9939\n",
        "\n",
        "第一個式子中，在分子分母中的減號後面三項，都包含來自最小平方回歸的殘差總和。換句話說，由於這些項都是在計算殘差總和，而且這些殘差總和都是在一個最小平方回歸分析中得出的，因此在計算偏相關係數時沒有貢獻。所以使用第一個式子或第二個式子都可以得到相同的結果。"
      ],
      "metadata": {
        "id": "JTYkqqAtqa0k"
      }
    },
    {
      "cell_type": "code",
      "source": [
        "#載入資料(心血管疾病)\n",
        "import pandas as pd\n",
        "data = pd.read_csv('https://bit.ly/3pcHwSo',sep=\";\")\n",
        "data.head()"
      ],
      "metadata": {
        "id": "DdQaBsxCpc4R",
        "colab": {
          "base_uri": "https://localhost:8080/",
          "height": 206
        },
        "outputId": "5e8ce10e-68f7-4ba7-cb32-32ab327d26a4"
      },
      "execution_count": 144,
      "outputs": [
        {
          "output_type": "execute_result",
          "data": {
            "text/plain": [
              "   id    age  gender  height  weight  ap_hi  ap_lo  cholesterol  gluc  smoke  \\\n",
              "0   0  18393       2     168    62.0    110     80            1     1      0   \n",
              "1   1  20228       1     156    85.0    140     90            3     1      0   \n",
              "2   2  18857       1     165    64.0    130     70            3     1      0   \n",
              "3   3  17623       2     169    82.0    150    100            1     1      0   \n",
              "4   4  17474       1     156    56.0    100     60            1     1      0   \n",
              "\n",
              "   alco  active  cardio  \n",
              "0     0       1       0  \n",
              "1     0       1       1  \n",
              "2     0       0       1  \n",
              "3     0       1       1  \n",
              "4     0       0       0  "
            ],
            "text/html": [
              "\n",
              "  <div id=\"df-98df008f-369d-43e7-8d3a-cb81054dc22b\">\n",
              "    <div class=\"colab-df-container\">\n",
              "      <div>\n",
              "<style scoped>\n",
              "    .dataframe tbody tr th:only-of-type {\n",
              "        vertical-align: middle;\n",
              "    }\n",
              "\n",
              "    .dataframe tbody tr th {\n",
              "        vertical-align: top;\n",
              "    }\n",
              "\n",
              "    .dataframe thead th {\n",
              "        text-align: right;\n",
              "    }\n",
              "</style>\n",
              "<table border=\"1\" class=\"dataframe\">\n",
              "  <thead>\n",
              "    <tr style=\"text-align: right;\">\n",
              "      <th></th>\n",
              "      <th>id</th>\n",
              "      <th>age</th>\n",
              "      <th>gender</th>\n",
              "      <th>height</th>\n",
              "      <th>weight</th>\n",
              "      <th>ap_hi</th>\n",
              "      <th>ap_lo</th>\n",
              "      <th>cholesterol</th>\n",
              "      <th>gluc</th>\n",
              "      <th>smoke</th>\n",
              "      <th>alco</th>\n",
              "      <th>active</th>\n",
              "      <th>cardio</th>\n",
              "    </tr>\n",
              "  </thead>\n",
              "  <tbody>\n",
              "    <tr>\n",
              "      <th>0</th>\n",
              "      <td>0</td>\n",
              "      <td>18393</td>\n",
              "      <td>2</td>\n",
              "      <td>168</td>\n",
              "      <td>62.0</td>\n",
              "      <td>110</td>\n",
              "      <td>80</td>\n",
              "      <td>1</td>\n",
              "      <td>1</td>\n",
              "      <td>0</td>\n",
              "      <td>0</td>\n",
              "      <td>1</td>\n",
              "      <td>0</td>\n",
              "    </tr>\n",
              "    <tr>\n",
              "      <th>1</th>\n",
              "      <td>1</td>\n",
              "      <td>20228</td>\n",
              "      <td>1</td>\n",
              "      <td>156</td>\n",
              "      <td>85.0</td>\n",
              "      <td>140</td>\n",
              "      <td>90</td>\n",
              "      <td>3</td>\n",
              "      <td>1</td>\n",
              "      <td>0</td>\n",
              "      <td>0</td>\n",
              "      <td>1</td>\n",
              "      <td>1</td>\n",
              "    </tr>\n",
              "    <tr>\n",
              "      <th>2</th>\n",
              "      <td>2</td>\n",
              "      <td>18857</td>\n",
              "      <td>1</td>\n",
              "      <td>165</td>\n",
              "      <td>64.0</td>\n",
              "      <td>130</td>\n",
              "      <td>70</td>\n",
              "      <td>3</td>\n",
              "      <td>1</td>\n",
              "      <td>0</td>\n",
              "      <td>0</td>\n",
              "      <td>0</td>\n",
              "      <td>1</td>\n",
              "    </tr>\n",
              "    <tr>\n",
              "      <th>3</th>\n",
              "      <td>3</td>\n",
              "      <td>17623</td>\n",
              "      <td>2</td>\n",
              "      <td>169</td>\n",
              "      <td>82.0</td>\n",
              "      <td>150</td>\n",
              "      <td>100</td>\n",
              "      <td>1</td>\n",
              "      <td>1</td>\n",
              "      <td>0</td>\n",
              "      <td>0</td>\n",
              "      <td>1</td>\n",
              "      <td>1</td>\n",
              "    </tr>\n",
              "    <tr>\n",
              "      <th>4</th>\n",
              "      <td>4</td>\n",
              "      <td>17474</td>\n",
              "      <td>1</td>\n",
              "      <td>156</td>\n",
              "      <td>56.0</td>\n",
              "      <td>100</td>\n",
              "      <td>60</td>\n",
              "      <td>1</td>\n",
              "      <td>1</td>\n",
              "      <td>0</td>\n",
              "      <td>0</td>\n",
              "      <td>0</td>\n",
              "      <td>0</td>\n",
              "    </tr>\n",
              "  </tbody>\n",
              "</table>\n",
              "</div>\n",
              "      <button class=\"colab-df-convert\" onclick=\"convertToInteractive('df-98df008f-369d-43e7-8d3a-cb81054dc22b')\"\n",
              "              title=\"Convert this dataframe to an interactive table.\"\n",
              "              style=\"display:none;\">\n",
              "        \n",
              "  <svg xmlns=\"http://www.w3.org/2000/svg\" height=\"24px\"viewBox=\"0 0 24 24\"\n",
              "       width=\"24px\">\n",
              "    <path d=\"M0 0h24v24H0V0z\" fill=\"none\"/>\n",
              "    <path d=\"M18.56 5.44l.94 2.06.94-2.06 2.06-.94-2.06-.94-.94-2.06-.94 2.06-2.06.94zm-11 1L8.5 8.5l.94-2.06 2.06-.94-2.06-.94L8.5 2.5l-.94 2.06-2.06.94zm10 10l.94 2.06.94-2.06 2.06-.94-2.06-.94-.94-2.06-.94 2.06-2.06.94z\"/><path d=\"M17.41 7.96l-1.37-1.37c-.4-.4-.92-.59-1.43-.59-.52 0-1.04.2-1.43.59L10.3 9.45l-7.72 7.72c-.78.78-.78 2.05 0 2.83L4 21.41c.39.39.9.59 1.41.59.51 0 1.02-.2 1.41-.59l7.78-7.78 2.81-2.81c.8-.78.8-2.07 0-2.86zM5.41 20L4 18.59l7.72-7.72 1.47 1.35L5.41 20z\"/>\n",
              "  </svg>\n",
              "      </button>\n",
              "      \n",
              "  <style>\n",
              "    .colab-df-container {\n",
              "      display:flex;\n",
              "      flex-wrap:wrap;\n",
              "      gap: 12px;\n",
              "    }\n",
              "\n",
              "    .colab-df-convert {\n",
              "      background-color: #E8F0FE;\n",
              "      border: none;\n",
              "      border-radius: 50%;\n",
              "      cursor: pointer;\n",
              "      display: none;\n",
              "      fill: #1967D2;\n",
              "      height: 32px;\n",
              "      padding: 0 0 0 0;\n",
              "      width: 32px;\n",
              "    }\n",
              "\n",
              "    .colab-df-convert:hover {\n",
              "      background-color: #E2EBFA;\n",
              "      box-shadow: 0px 1px 2px rgba(60, 64, 67, 0.3), 0px 1px 3px 1px rgba(60, 64, 67, 0.15);\n",
              "      fill: #174EA6;\n",
              "    }\n",
              "\n",
              "    [theme=dark] .colab-df-convert {\n",
              "      background-color: #3B4455;\n",
              "      fill: #D2E3FC;\n",
              "    }\n",
              "\n",
              "    [theme=dark] .colab-df-convert:hover {\n",
              "      background-color: #434B5C;\n",
              "      box-shadow: 0px 1px 3px 1px rgba(0, 0, 0, 0.15);\n",
              "      filter: drop-shadow(0px 1px 2px rgba(0, 0, 0, 0.3));\n",
              "      fill: #FFFFFF;\n",
              "    }\n",
              "  </style>\n",
              "\n",
              "      <script>\n",
              "        const buttonEl =\n",
              "          document.querySelector('#df-98df008f-369d-43e7-8d3a-cb81054dc22b button.colab-df-convert');\n",
              "        buttonEl.style.display =\n",
              "          google.colab.kernel.accessAllowed ? 'block' : 'none';\n",
              "\n",
              "        async function convertToInteractive(key) {\n",
              "          const element = document.querySelector('#df-98df008f-369d-43e7-8d3a-cb81054dc22b');\n",
              "          const dataTable =\n",
              "            await google.colab.kernel.invokeFunction('convertToInteractive',\n",
              "                                                     [key], {});\n",
              "          if (!dataTable) return;\n",
              "\n",
              "          const docLinkHtml = 'Like what you see? Visit the ' +\n",
              "            '<a target=\"_blank\" href=https://colab.research.google.com/notebooks/data_table.ipynb>data table notebook</a>'\n",
              "            + ' to learn more about interactive tables.';\n",
              "          element.innerHTML = '';\n",
              "          dataTable['output_type'] = 'display_data';\n",
              "          await google.colab.output.renderOutput(dataTable, element);\n",
              "          const docLink = document.createElement('div');\n",
              "          docLink.innerHTML = docLinkHtml;\n",
              "          element.appendChild(docLink);\n",
              "        }\n",
              "      </script>\n",
              "    </div>\n",
              "  </div>\n",
              "  "
            ]
          },
          "metadata": {},
          "execution_count": 144
        }
      ]
    },
    {
      "cell_type": "code",
      "source": [
        "#確認沒有NA值\n",
        "data.isna().sum()"
      ],
      "metadata": {
        "id": "tE2uUWI4sBZK",
        "colab": {
          "base_uri": "https://localhost:8080/"
        },
        "outputId": "f7731bf1-08e6-4012-9578-40133fbe2bb6"
      },
      "execution_count": 145,
      "outputs": [
        {
          "output_type": "execute_result",
          "data": {
            "text/plain": [
              "id             0\n",
              "age            0\n",
              "gender         0\n",
              "height         0\n",
              "weight         0\n",
              "ap_hi          0\n",
              "ap_lo          0\n",
              "cholesterol    0\n",
              "gluc           0\n",
              "smoke          0\n",
              "alco           0\n",
              "active         0\n",
              "cardio         0\n",
              "dtype: int64"
            ]
          },
          "metadata": {},
          "execution_count": 145
        }
      ]
    },
    {
      "cell_type": "markdown",
      "source": [
        "先計算X與Y的線性回歸殘差"
      ],
      "metadata": {
        "id": "vq4wTkmsITfU"
      }
    },
    {
      "cell_type": "code",
      "source": [
        "#計算X和Y分別在Z上的線性回歸殘差\n",
        "def residual_sum(source1, source2):\n",
        "  #得到(N,2)的二维数组\n",
        "  arr_2D = np.vstack([source1, np.ones(len(data))]).T\n",
        "  #計算斜率\n",
        "  slope = np.linalg.lstsq(arr_2D, source2, rcond=None)[0]\n",
        "  #得到y預測值\n",
        "  y_hat = np.dot(arr_2D, slope)\n",
        "  #計算殘差\n",
        "  residuals = source2 - y_hat\n",
        "  return residuals\n",
        "#the residuals of X and Y regressing on Z, repectively\n",
        "ei_x = residual_sum(X, Z)\n",
        "ei_y = residual_sum(Y, Z)"
      ],
      "metadata": {
        "id": "m1TcP9na4-P5"
      },
      "execution_count": 147,
      "outputs": []
    },
    {
      "cell_type": "markdown",
      "source": [
        "第一個式子\n",
        "\n",
        "![image.png](data:image/png;base64,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)"
      ],
      "metadata": {
        "id": "EdR0vITtHqDQ"
      }
    },
    {
      "cell_type": "code",
      "source": [
        "#定義計算partial correlation的函式(一)\n",
        "def part_corr_st(ei_1, ei_2):\n",
        "  N = len(ei_1)\n",
        "  #計算分子部分N*殘差相乘後的和\n",
        "  numerator = N*((ei_1*ei_2).sum())-(ei_1.sum())*(ei_2.sum())\n",
        "  #計算分母\n",
        "  denominator1 = math.sqrt(N*(ei_1**2).sum()-((ei_1.sum())**2))\n",
        "  denominator2 = math.sqrt(N*(ei_2**2).sum()-((ei_2.sum())**2))\n",
        "  denominator = denominator1*denominator2\n",
        "  rxy_z = numerator/denominator\n",
        "  return rxy_z\n",
        "print('partial correlation(rXY_Z):', round(part_corr_st(ei_x,ei_y),4), 'for formula 1')"
      ],
      "metadata": {
        "colab": {
          "base_uri": "https://localhost:8080/"
        },
        "id": "2yzS96AQ-itW",
        "outputId": "8f44394c-9119-487c-8f67-21951624e50f"
      },
      "execution_count": 155,
      "outputs": [
        {
          "output_type": "stream",
          "name": "stdout",
          "text": [
            "partial correlation(rXY_Z): 0.9939 for formula 1\n"
          ]
        }
      ]
    },
    {
      "cell_type": "markdown",
      "source": [
        "第二個式子\n",
        "\n",
        "![image.png](data:image/png;base64,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)"
      ],
      "metadata": {
        "id": "V-U0NHe8Hsj4"
      }
    },
    {
      "cell_type": "code",
      "source": [
        "#定義計算partial correlation的函式(一)\n",
        "def part_corr_nd(ei_1, ei_2):\n",
        "  N = len(ei_1)\n",
        "  #計算分子部分N*殘差相乘後的和\n",
        "  numerator = N*((ei_1*ei_2).sum())\n",
        "  denominator = (math.sqrt(N*(ei_1**2).sum()))*(math.sqrt(N*(ei_2**2).sum()))\n",
        "  rxy_z = numerator/denominator\n",
        "  return rxy_z\n",
        "print('partial correlation(rXY_Z):', round(part_corr_nd(ei_x,ei_y),4), 'for formula 2')"
      ],
      "metadata": {
        "colab": {
          "base_uri": "https://localhost:8080/"
        },
        "id": "fT7G0nqKFAoJ",
        "outputId": "70b90e88-f089-4a0d-83fe-d00ed7aece31"
      },
      "execution_count": 156,
      "outputs": [
        {
          "output_type": "stream",
          "name": "stdout",
          "text": [
            "partial correlation(rXY_Z): 0.9939 for formula 2\n"
          ]
        }
      ]
    },
    {
      "cell_type": "code",
      "source": [
        "#確認兩種式子計算出的一樣(因為前面結果有四捨五入輸出)\n",
        "if part_corr_st(ei_x,ei_y)==part_corr_nd(ei_x,ei_y):\n",
        "  print(\"The partial correlation coefficients calculated by the two formulas are the same.\")\n",
        "else:\n",
        "  print(\"The partial correlation coefficients calculated by these two formulas are not the same\")"
      ],
      "metadata": {
        "colab": {
          "base_uri": "https://localhost:8080/"
        },
        "id": "XfDXDFwYF19j",
        "outputId": "01bf7b3d-ea30-4a57-b77e-35a44409458c"
      },
      "execution_count": 154,
      "outputs": [
        {
          "output_type": "stream",
          "name": "stdout",
          "text": [
            "The partial correlation coefficients calculated by the two formulas are the same.\n"
          ]
        }
      ]
    },
    {
      "cell_type": "code",
      "source": [],
      "metadata": {
        "id": "pgiafV8QFwWs"
      },
      "execution_count": null,
      "outputs": []
    }
  ]
}