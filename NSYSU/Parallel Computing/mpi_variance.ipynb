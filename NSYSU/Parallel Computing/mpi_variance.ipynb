{
 "cells": [
  {
   "cell_type": "code",
   "execution_count": 1,
   "id": "5ca02b4f",
   "metadata": {},
   "outputs": [
    {
     "name": "stdout",
     "output_type": "stream",
     "text": [
      "[0, 1]\n"
     ]
    }
   ],
   "source": [
    "import ipyparallel as ipp\n",
    "c = ipp.Client(profile='remote')#, cluster_id='remote')\n",
    "dview = c[:]\n",
    "print(c.ids)\n",
    "%px from mpi4py import MPI\n",
    "%px import numpy as np\n",
    "%px comm = MPI.COMM_WORLD"
   ]
  },
  {
   "cell_type": "code",
   "execution_count": 27,
   "id": "4a0e2e7c",
   "metadata": {},
   "outputs": [
    {
     "data": {
      "text/plain": [
       "['LAPTOP-NBMNPREL', 'LENOVO']"
      ]
     },
     "execution_count": 27,
     "metadata": {},
     "output_type": "execute_result"
    }
   ],
   "source": [
    "dview.run('D://code/workplace_py/Parallel/PythonCode/rank_mpi.py')\n",
    "%px totalhost = hostname()\n",
    "dview['totalhost']"
   ]
  },
  {
   "cell_type": "code",
   "execution_count": 2,
   "id": "21b73303",
   "metadata": {},
   "outputs": [
    {
     "name": "stdout",
     "output_type": "stream",
     "text": [
      "importing numpy on engine(s)\n",
      "importing MPI from mpi4py on engine(s)\n"
     ]
    }
   ],
   "source": [
    "with c[:].sync_imports():\n",
    "    import numpy as np\n",
    "    from mpi4py import MPI"
   ]
  },
  {
   "cell_type": "code",
   "execution_count": 3,
   "id": "6e5ed360",
   "metadata": {},
   "outputs": [
    {
     "name": "stdout",
     "output_type": "stream",
     "text": [
      "[stdout:0] 0\n",
      "[stdout:1] 0\n"
     ]
    }
   ],
   "source": [
    "%%px\n",
    "print(comm.rank)"
   ]
  },
  {
   "cell_type": "code",
   "execution_count": 4,
   "id": "bac10a52",
   "metadata": {},
   "outputs": [
    {
     "data": {
      "text/plain": [
       "[array([0., 1., 2., 3., 4.]), array([5., 6., 7., 8., 9.])]"
      ]
     },
     "execution_count": 4,
     "metadata": {},
     "output_type": "execute_result"
    }
   ],
   "source": [
    "dview = c[:]\n",
    "dview.scatter('a',np.arange(10,dtype='float'))\n",
    "dview['a']"
   ]
  },
  {
   "cell_type": "code",
   "execution_count": null,
   "id": "6556abb9",
   "metadata": {},
   "outputs": [],
   "source": [
    "#%%px\n",
    "#if comm.rank == 0:\n",
    "c = np.arange(100, dtype='float64')\n",
    "#else:\n",
    "#    c = None"
   ]
  },
  {
   "cell_type": "code",
   "execution_count": null,
   "id": "f8880192",
   "metadata": {},
   "outputs": [],
   "source": [
    "dview['c']"
   ]
  },
  {
   "cell_type": "code",
   "execution_count": 5,
   "id": "66be32bf",
   "metadata": {},
   "outputs": [],
   "source": [
    "%%px\n",
    "recv_data = np.empty(5, dtype='float64')\n",
    "comm.Scatter(a, recv_data, root=0)"
   ]
  },
  {
   "cell_type": "code",
   "execution_count": 6,
   "id": "4bb90ceb",
   "metadata": {},
   "outputs": [
    {
     "name": "stdout",
     "output_type": "stream",
     "text": [
      "[stdout:0] [0. 1. 2. 3. 4.]\n",
      "[stdout:1] [5. 6. 7. 8. 9.]\n"
     ]
    }
   ],
   "source": [
    "%%px\n",
    "print(recv_data)"
   ]
  },
  {
   "cell_type": "code",
   "execution_count": 10,
   "id": "565c3cdd",
   "metadata": {},
   "outputs": [],
   "source": [
    "%%px\n",
    "def psum(c):\n",
    "    locsum = np.sum(c)\n",
    "    rcvBuf = np.array(0.0,'float64')\n",
    "    MPI.COMM_WORLD.Allreduce([locsum/10, MPI.DOUBLE],\n",
    "        [rcvBuf, MPI.DOUBLE],\n",
    "        op=MPI.SUM)\n",
    "    return rcvBuf"
   ]
  },
  {
   "cell_type": "code",
   "execution_count": 11,
   "id": "036c7bc5",
   "metadata": {},
   "outputs": [
    {
     "data": {
      "text/plain": [
       "[array(1.), array(3.5)]"
      ]
     },
     "execution_count": 11,
     "metadata": {},
     "output_type": "execute_result"
    }
   ],
   "source": [
    "%px respective_mu = psum(recv_data)\n",
    "dview['respective_mu']\n",
    "#each_mu = dview['respective_mu'][0]+dview['respective_mu'][1]\n",
    "#print(each_mu)"
   ]
  },
  {
   "cell_type": "code",
   "execution_count": 12,
   "id": "897db90b",
   "metadata": {},
   "outputs": [],
   "source": [
    "%%px\n",
    "def local_var_sum_arg(mu):\n",
    "    l_sum = np.array(0.0, 'float64')\n",
    "    for i in recv_data:\n",
    "        l_sum += (i - mu)**2\n",
    "    return l_sum"
   ]
  },
  {
   "cell_type": "code",
   "execution_count": 13,
   "id": "ce6e8d2d",
   "metadata": {
    "scrolled": true
   },
   "outputs": [
    {
     "data": {
      "text/plain": [
       "[array(41.25), array(41.25)]"
      ]
     },
     "execution_count": 13,
     "metadata": {},
     "output_type": "execute_result"
    }
   ],
   "source": [
    "%px lcv = local_var_sum_arg(each_mu)\n",
    "dview['lcv']"
   ]
  },
  {
   "cell_type": "code",
   "execution_count": 14,
   "id": "d0af2759",
   "metadata": {},
   "outputs": [],
   "source": [
    "%%px\n",
    "def g_var_sum(lcv):\n",
    "    rec = np.array(0.0,'float64')\n",
    "    total_sum = comm.reduce(lcv, op=MPI.SUM)\n",
    "    return total_sum"
   ]
  },
  {
   "cell_type": "code",
   "execution_count": 23,
   "id": "52c948b2",
   "metadata": {},
   "outputs": [
    {
     "name": "stdout",
     "output_type": "stream",
     "text": [
      "82.5\n"
     ]
    }
   ],
   "source": [
    "%px sum = g_var_sum(lcv)\n",
    "dview[\"sum\"]\n",
    "result_sum = dview[\"sum\"][0]+dview[\"sum\"][1]\n",
    "print(result_sum)"
   ]
  },
  {
   "cell_type": "code",
   "execution_count": 24,
   "id": "adb3133f",
   "metadata": {},
   "outputs": [
    {
     "name": "stdout",
     "output_type": "stream",
     "text": [
      "variance =  8.25\n"
     ]
    }
   ],
   "source": [
    "#%%px\n",
    "#if comm.rank ==0:\n",
    "print(\"variance = \",result_sum/10)"
   ]
  }
 ],
 "metadata": {
  "kernelspec": {
   "display_name": "Python 3",
   "language": "python",
   "name": "python3"
  },
  "language_info": {
   "codemirror_mode": {
    "name": "ipython",
    "version": 3
   },
   "file_extension": ".py",
   "mimetype": "text/x-python",
   "name": "python",
   "nbconvert_exporter": "python",
   "pygments_lexer": "ipython3",
   "version": "3.6.13"
  }
 },
 "nbformat": 4,
 "nbformat_minor": 5
}
