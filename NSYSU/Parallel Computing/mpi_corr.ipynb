{
 "cells": [
  {
   "cell_type": "code",
   "execution_count": 28,
   "id": "a922d25a",
   "metadata": {},
   "outputs": [
    {
     "name": "stdout",
     "output_type": "stream",
     "text": [
      "[0, 1, 2, 3, 4, 5, 6, 7]\n"
     ]
    }
   ],
   "source": [
    "from mpi4py import MPI\n",
    "import numpy as np\n",
    "import random\n",
    "import math\n",
    "import ipyparallel as ipp\n",
    "remote = ipp.Client()\n",
    "print(remote.ids)\n",
    "dview = remote[:]"
   ]
  },
  {
   "cell_type": "code",
   "execution_count": 47,
   "id": "f8be6612",
   "metadata": {},
   "outputs": [
    {
     "data": {
      "text/plain": [
       "<AsyncResult: scatter>"
      ]
     },
     "execution_count": 47,
     "metadata": {},
     "output_type": "execute_result"
    }
   ],
   "source": [
    "X = [random.randint(1, 50) for _ in range(40)]\n",
    "Y = [random.randint(1, 50) for _ in range(40)]\n",
    "# 分派data\n",
    "dview.scatter('X', X)\n",
    "dview.scatter('Y', Y)"
   ]
  },
  {
   "cell_type": "code",
   "execution_count": 62,
   "id": "f7038a1d",
   "metadata": {},
   "outputs": [
    {
     "name": "stdout",
     "output_type": "stream",
     "text": [
      "Partial sum [78, 131, 82, 179, 185, 171, 119, 100]\n",
      "Global sum 1045\n",
      "Mean 26.125\n",
      "Partial variance sum [1809.078125, 1148.828125, 1558.078125, 1174.828125, 1651.328125, 862.828125, 237.828125, 1163.578125]\n",
      "SD =  15.4971\n"
     ]
    }
   ],
   "source": [
    "# 計算X變異數\n",
    "@dview.remote(block=True)\n",
    "def local_sum():\n",
    "    return sum(X)\n",
    "\n",
    "@dview.remote(block=True)\n",
    "def local_var_sum_arg(mu):\n",
    "    l_sum = 0\n",
    "    for i in X:\n",
    "        l_sum += (i - mu)**2\n",
    "    return l_sum\n",
    "\n",
    "l_sum = local_sum()\n",
    "print('Partial sum', l_sum)\n",
    "g_sum = sum(l_sum)\n",
    "print('Global sum', g_sum)\n",
    "gmu = g_sum / len(X)\n",
    "print('Mean', gmu)\n",
    "l_sum = local_var_sum_arg(gmu)\n",
    "print('Partial variance sum', l_sum)\n",
    "g_sum = sum(l_sum)\n",
    "g_var = math.sqrt(g_sum / len(X))\n",
    "print('SD = ', round(g_var,4))\n",
    "#儲存X的標準差\n",
    "X_sd = g_var"
   ]
  },
  {
   "cell_type": "code",
   "execution_count": 57,
   "id": "03c09be3",
   "metadata": {},
   "outputs": [
    {
     "name": "stdout",
     "output_type": "stream",
     "text": [
      "Partial sum [135, 93, 101, 163, 78, 86, 120, 145]\n",
      "Global sum 921\n",
      "Mean 23.025\n",
      "Partial variance sum [1839.0031250000004, 1227.1031249999999, 1234.703125, 1175.603125, 980.8531249999999, 752.453125, 998.753125, 428.5031250000001]\n",
      "SD =  14.6944\n"
     ]
    }
   ],
   "source": [
    "# 計算Y變異數\n",
    "@dview.remote(block=True)\n",
    "def local_sum():\n",
    "    return sum(Y)\n",
    "\n",
    "@dview.remote(block=True)\n",
    "def local_var_sum_arg(mu):\n",
    "    l_sum = 0\n",
    "    for i in Y:\n",
    "        l_sum += (i - mu)**2\n",
    "    return l_sum\n",
    "\n",
    "l_sum = local_sum()\n",
    "print('Partial sum', l_sum)\n",
    "g_sum = sum(l_sum)\n",
    "print('Global sum', g_sum)\n",
    "gmu = g_sum / len(Y)\n",
    "print('Mean', gmu)\n",
    "l_sum = local_var_sum_arg(gmu)\n",
    "print('Partial variance sum', l_sum)\n",
    "g_sum = sum(l_sum)\n",
    "g_var = math.sqrt(g_sum / len(Y))\n",
    "print('SD = ', round(g_var,4))\n",
    "#儲存Y的標準差\n",
    "Y_sd = g_var"
   ]
  },
  {
   "cell_type": "code",
   "execution_count": 58,
   "id": "47c7a91c",
   "metadata": {},
   "outputs": [],
   "source": [
    "@dview.remote(block=True)\n",
    "def local_cov_sum_arg(mu_X, mu_Y):\n",
    "    l_sum = 0\n",
    "    for i in range(len(X)):\n",
    "        l_sum += (X[i] - mu_X) * (Y[i] - mu_Y)\n",
    "    return l_sum"
   ]
  },
  {
   "cell_type": "code",
   "execution_count": 59,
   "id": "63b06809",
   "metadata": {},
   "outputs": [],
   "source": [
    "gmu_X = sum(X) / len(X)\n",
    "gmu_Y = sum(Y) / len(Y)"
   ]
  },
  {
   "cell_type": "code",
   "execution_count": 60,
   "id": "3dba322b",
   "metadata": {},
   "outputs": [
    {
     "name": "stdout",
     "output_type": "stream",
     "text": [
      "Partial covariance sum [-1132.184375, 578.740625, 1179.965625, 905.7906250000001, -11.734374999999886, -192.38437499999992, 280.66562500000003, -76.98437500000009]\n",
      "Covariance =  38.2969\n"
     ]
    }
   ],
   "source": [
    "l_sum = local_cov_sum_arg(gmu_X, gmu_Y)\n",
    "print('Partial covariance sum', l_sum)\n",
    "g_sum = sum(l_sum)\n",
    "g_cov = g_sum / len(X)\n",
    "print('Covariance = ', round(g_cov,4))\n",
    "#儲存X&Y的共變數\n",
    "XY_cov = g_cov"
   ]
  },
  {
   "cell_type": "code",
   "execution_count": 61,
   "id": "dcb1f9ce",
   "metadata": {},
   "outputs": [
    {
     "name": "stdout",
     "output_type": "stream",
     "text": [
      "correlation coefficient: 0.1682\n"
     ]
    }
   ],
   "source": [
    "#計算相關係數\n",
    "r = XY_cov/(X_sd*Y_sd)\n",
    "print(\"correlation coefficient:\",round(r,4))"
   ]
  },
  {
   "cell_type": "code",
   "execution_count": 55,
   "id": "5560af6a",
   "metadata": {},
   "outputs": [
    {
     "name": "stdout",
     "output_type": "stream",
     "text": [
      "[5, 9, 6, 47, 11, 44, 2, 36, 16, 33, 2, 3, 13, 42, 22, 16, 28, 45, 45, 45, 38, 9, 46, 42, 50, 32, 40, 36, 16, 47, 32, 16, 21, 19, 31, 9, 37, 11, 37, 6] [50, 4, 42, 6, 33, 9, 1, 28, 12, 43, 6, 7, 10, 41, 37, 13, 40, 46, 39, 25, 6, 10, 11, 12, 39, 3, 17, 8, 26, 32, 44, 2, 19, 33, 22, 21, 38, 24, 25, 37]\n"
     ]
    }
   ],
   "source": [
    "print(X,Y)"
   ]
  },
  {
   "cell_type": "code",
   "execution_count": null,
   "id": "76e3cbc7",
   "metadata": {},
   "outputs": [],
   "source": []
  }
 ],
 "metadata": {
  "kernelspec": {
   "display_name": "Python 3",
   "language": "python",
   "name": "python3"
  },
  "language_info": {
   "codemirror_mode": {
    "name": "ipython",
    "version": 3
   },
   "file_extension": ".py",
   "mimetype": "text/x-python",
   "name": "python",
   "nbconvert_exporter": "python",
   "pygments_lexer": "ipython3",
   "version": "3.6.13"
  }
 },
 "nbformat": 4,
 "nbformat_minor": 5
}
