{
 "cells": [
  {
   "cell_type": "code",
   "execution_count": 1,
   "id": "f99febce",
   "metadata": {
    "scrolled": true
   },
   "outputs": [
    {
     "name": "stdout",
     "output_type": "stream",
     "text": [
      "[0, 1, 2, 3, 4, 5]\n"
     ]
    }
   ],
   "source": [
    "import ipyparallel as ipp\n",
    "c = ipp.Client(profile='remote', cluster_id='remote')\n",
    "dview = c[:]\n",
    "print(c.ids)"
   ]
  },
  {
   "cell_type": "code",
   "execution_count": 2,
   "id": "fe242994",
   "metadata": {
    "scrolled": true
   },
   "outputs": [],
   "source": [
    "%px import numpy as np\n",
    "%px import time\n",
    "%px from mpi4py import MPI\n",
    "\n",
    "# 初始化MPI環境\n",
    "%px comm = MPI.COMM_WORLD\n",
    "%px rank = comm.Get_rank()\n",
    "%px size = comm.Get_size()\n"
   ]
  },
  {
   "cell_type": "code",
   "execution_count": 3,
   "id": "95ea433e",
   "metadata": {},
   "outputs": [
    {
     "data": {
      "text/plain": [
       "['LENOVO', 'LENOVO', 'LENOVO', 'LENOVO', 'LAPTOP-NBMNPREL', 'LAPTOP-NBMNPREL']"
      ]
     },
     "execution_count": 3,
     "metadata": {},
     "output_type": "execute_result"
    }
   ],
   "source": [
    "dview.run('D://code/workplace_py/Parallel/PythonCode/rank_mpi.py')\n",
    "%px totalhost = hostname()\n",
    "dview['totalhost']"
   ]
  },
  {
   "cell_type": "code",
   "execution_count": 4,
   "id": "66091c10",
   "metadata": {},
   "outputs": [
    {
     "name": "stdout",
     "output_type": "stream",
     "text": [
      "[stdout:0] 0\n",
      "[stdout:1] 1\n",
      "[stdout:2] 2\n",
      "[stdout:3] 3\n",
      "[stdout:4] 1\n",
      "[stdout:5] 0\n"
     ]
    }
   ],
   "source": [
    "%%px\n",
    "print(comm.rank)"
   ]
  },
  {
   "cell_type": "code",
   "execution_count": 5,
   "id": "cc434960",
   "metadata": {},
   "outputs": [],
   "source": [
    "%%px\n",
    "# 定義Bootstrap\n",
    "def bootstrap(data, n_bootstrap):\n",
    "    n = len(data)\n",
    "    bootstrap_samples = np.zeros((n_bootstrap, n))\n",
    "    for i in range(n_bootstrap):\n",
    "        bootstrap_sample = np.random.choice(data, size=n, replace=True)\n",
    "        bootstrap_samples[i] = bootstrap_sample\n",
    "    return bootstrap_samples"
   ]
  },
  {
   "cell_type": "code",
   "execution_count": 7,
   "id": "d269c26a",
   "metadata": {},
   "outputs": [
    {
     "name": "stdout",
     "output_type": "stream",
     "text": [
      "[stdout:0] time 4.666\n",
      "[stdout:1] time 4.634\n",
      "[stdout:2] time 4.636\n",
      "[stdout:3] time 4.638\n",
      "[stdout:4] time 15.813\n",
      "[stdout:5] time 15.868\n"
     ]
    }
   ],
   "source": [
    "%%px\n",
    "\n",
    "a = time.time()\n",
    "# 假設有一組原始數據\n",
    "strong_hand = np.array([77.3, 95.1, 97.2, 94.5, 83.6, 90.2, 84.3])\n",
    "weak_hand = np.array([74.6, 83.4, 80.6, 90.2, 78.7, 83.6, 76.2])\n",
    "\n",
    "#計算原始的平均數差異\n",
    "u_diff = np.mean(strong_hand) - np.mean(weak_hand)\n",
    "\n",
    "# 將10個bootstrap樣本平均分配給每個CPU\n",
    "n_bootstrap = int(1000000/2)\n",
    "n_bootstrap_per_cpu = n_bootstrap // size\n",
    "\n",
    "# 每個CPU執行自己分配到的bootstrap樣本\n",
    "bootstrap_samples_local1 = bootstrap(strong_hand, n_bootstrap_per_cpu)\n",
    "bootstrap_samples_local2 = bootstrap(weak_hand, n_bootstrap_per_cpu)\n",
    "\n",
    "# 將每個CPU的結果收集到根節點\n",
    "bootstrap_samples_all1= comm.gather(bootstrap_samples_local1, root=0)\n",
    "bootstrap_samples_all2 = comm.gather(bootstrap_samples_local2, root=0)\n",
    "\n",
    "if rank == 0:\n",
    "\n",
    "    # 計算每個bootstrap樣本的平均數\n",
    "    bootstrap_means1 = np.mean(bootstrap_samples_all1, axis=(0, 2))\n",
    "    bootstrap_means2 = np.mean(bootstrap_samples_all2, axis=(0, 2))\n",
    "    mean_diff = bootstrap_means1 - bootstrap_means2\n",
    "    \n",
    "# 結束時間\n",
    "b = time.time()\n",
    "print(f\"time {b-a:.3f}\")"
   ]
  },
  {
   "cell_type": "code",
   "execution_count": null,
   "id": "2e43b498",
   "metadata": {},
   "outputs": [],
   "source": []
  }
 ],
 "metadata": {
  "kernelspec": {
   "display_name": "Python 3",
   "language": "python",
   "name": "python3"
  },
  "language_info": {
   "codemirror_mode": {
    "name": "ipython",
    "version": 3
   },
   "file_extension": ".py",
   "mimetype": "text/x-python",
   "name": "python",
   "nbconvert_exporter": "python",
   "pygments_lexer": "ipython3",
   "version": "3.6.13"
  }
 },
 "nbformat": 4,
 "nbformat_minor": 5
}
