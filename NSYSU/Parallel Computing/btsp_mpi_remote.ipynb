{
 "cells": [
  {
   "cell_type": "code",
   "execution_count": 2,
   "id": "fe242994",
   "metadata": {
    "scrolled": true
   },
   "outputs": [],
   "source": [
    "%px import numpy as np\n",
    "%px from mpi4py import MPI\n",
    "%px import matplotlib.pyplot as plt\n",
    "%px import time\n",
    "\n",
    "# 初始時間\n",
    "\n",
    "\n",
    "# 初始化MPI環境\n",
    "%px comm = MPI.COMM_WORLD\n",
    "%px rank = comm.Get_rank()\n",
    "%px size = comm.Get_size()"
   ]
  },
  {
   "cell_type": "code",
   "execution_count": 1,
   "id": "f99febce",
   "metadata": {
    "scrolled": false
   },
   "outputs": [
    {
     "name": "stdout",
     "output_type": "stream",
     "text": [
      "[0, 1]\n"
     ]
    }
   ],
   "source": [
    "import ipyparallel as ipp\n",
    "c = ipp.Client(profile='remote', cluster_id='remote')\n",
    "dview = c[:]\n",
    "print(c.ids)"
   ]
  },
  {
   "cell_type": "code",
   "execution_count": 3,
   "id": "66091c10",
   "metadata": {},
   "outputs": [
    {
     "name": "stdout",
     "output_type": "stream",
     "text": [
      "[stdout:0] 0\n",
      "[stdout:1] 1\n"
     ]
    }
   ],
   "source": [
    "%%px\n",
    "print(comm.rank)"
   ]
  },
  {
   "cell_type": "code",
   "execution_count": 4,
   "id": "cc434960",
   "metadata": {},
   "outputs": [],
   "source": [
    "%%px\n",
    "# 定義Bootstrap\n",
    "def bootstrap(data, n_bootstrap):\n",
    "    n = len(data)\n",
    "    bootstrap_samples = np.zeros((n_bootstrap, n))\n",
    "    for i in range(n_bootstrap):\n",
    "        bootstrap_sample = np.random.choice(data, size=n, replace=True)\n",
    "        bootstrap_samples[i] = bootstrap_sample\n",
    "    return bootstrap_samples"
   ]
  },
  {
   "cell_type": "code",
   "execution_count": 5,
   "id": "d269c26a",
   "metadata": {},
   "outputs": [
    {
     "name": "stdout",
     "output_type": "stream",
     "text": [
      "[stdout:0] \n",
      "difference of observed mean = 7.843\n",
      "95% confidence interval：[7.798,7.888]\n",
      "decision: reject the null hypothesis\n",
      "time 0.514\n",
      "[stdout:1] time 0.506\n"
     ]
    }
   ],
   "source": [
    "%%px\n",
    "\n",
    "a = time.time()\n",
    "# 假設有一組原始數據\n",
    "strong_hand = np.array([77.3, 95.1, 97.2, 94.5, 83.6, 90.2, 84.3])\n",
    "weak_hand = np.array([74.6, 83.4, 80.6, 90.2, 78.7, 83.6, 76.2])\n",
    "\n",
    "#計算原始的平均數差異\n",
    "u_diff = np.mean(strong_hand) - np.mean(weak_hand)\n",
    "\n",
    "# 將10個bootstrap樣本平均分配給每個CPU\n",
    "n_bootstrap = 10000\n",
    "n_bootstrap_per_cpu = n_bootstrap // size\n",
    "\n",
    "# 每個CPU執行自己分配到的bootstrap樣本\n",
    "bootstrap_samples_local1 = bootstrap(strong_hand, n_bootstrap_per_cpu)\n",
    "bootstrap_samples_local2 = bootstrap(weak_hand, n_bootstrap_per_cpu)\n",
    "\n",
    "# 將每個CPU的結果收集到根節點\n",
    "bootstrap_samples_all1= comm.gather(bootstrap_samples_local1, root=0)\n",
    "bootstrap_samples_all2 = comm.gather(bootstrap_samples_local2, root=0)\n",
    "\n",
    "if rank == 0:\n",
    "    '''\n",
    "    for i, samples in enumerate(bootstrap_samples_all):\n",
    "        for j, sample in enumerate(samples):\n",
    "            print(f\"Bootstrap樣本{size*i + j + 1}：\", sample)\n",
    "    '''\n",
    "    # 計算每個bootstrap樣本的平均數\n",
    "    bootstrap_means1 = np.mean(bootstrap_samples_all1, axis=(0, 2))\n",
    "    bootstrap_means2 = np.mean(bootstrap_samples_all2, axis=(0, 2))\n",
    "    mean_diff = bootstrap_means1 - bootstrap_means2\n",
    "    \n",
    "    #計算std\n",
    "    std = np.std(mean_diff) / np.sqrt(n_bootstrap)\n",
    "\n",
    "    #計算信賴區間的上下界\n",
    "    lower = u_diff - (1.96 * std)\n",
    "    upper = u_diff + (1.96 * std)\n",
    "    \n",
    "    #利用信賴區間判斷平均數是否有顯著差異\n",
    "    if 0 < lower or 0 > upper:\n",
    "        decision = \"reject the null hypothesis\"\n",
    "    else:\n",
    "        decision = \"don't reject the null hypothesis\"\n",
    "\n",
    "    \n",
    "    '''\n",
    "    # 輸出每一筆bootstrap樣本的平均數\n",
    "    for i, mean in enumerate(bootstrap_means):\n",
    "        print(f\"Bootstrap樣本{size*i + rank + 1}的平均數：\", mean)\n",
    "    '''\n",
    "    \n",
    "    '''\n",
    "    # 繪製值方圖\n",
    "    plt.hist(bootstrap_means1, bins=30, edgecolor='black')\n",
    "    plt.xlabel('Bootstrap Mean')\n",
    "    plt.ylabel('Frequency')\n",
    "    plt.title('Distribution of Bootstrap_means1')\n",
    "    plt.show()\n",
    "    \n",
    "    plt.hist(bootstrap_means2, bins=30 , edgecolor='black',)\n",
    "    plt.xlabel('Bootstrap Mean')\n",
    "    plt.ylabel('Frequency')\n",
    "    plt.title('Distribution of Bootstrap_means2')\n",
    "    plt.show()\n",
    "    \n",
    "    plt.hist(mean_diff, bins=30 , edgecolor='black',)\n",
    "    plt.xlabel('Bootstrap Mean')\n",
    "    plt.ylabel('Frequency')\n",
    "    plt.title('Distribution of Bootstrap mean_diff')\n",
    "    plt.show()\n",
    "    '''\n",
    "    print(f\"difference of observed mean = {u_diff:.3f}\")\n",
    "    print(f\"95% confidence interval：[{lower:.3f},{upper:.3f}]\")\n",
    "    print(f\"decision: {decision}\")\n",
    "# 結束時間\n",
    "b = time.time()\n",
    "print(f\"time {b-a:.3f}\")"
   ]
  }
 ],
 "metadata": {
  "kernelspec": {
   "display_name": "Python 3",
   "language": "python",
   "name": "python3"
  },
  "language_info": {
   "codemirror_mode": {
    "name": "ipython",
    "version": 3
   },
   "file_extension": ".py",
   "mimetype": "text/x-python",
   "name": "python",
   "nbconvert_exporter": "python",
   "pygments_lexer": "ipython3",
   "version": "3.6.13"
  }
 },
 "nbformat": 4,
 "nbformat_minor": 5
}
