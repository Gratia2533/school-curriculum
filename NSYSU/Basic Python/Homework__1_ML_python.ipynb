{
  "nbformat": 4,
  "nbformat_minor": 0,
  "metadata": {
    "colab": {
      "provenance": [],
      "toc_visible": true
    },
    "kernelspec": {
      "name": "python3",
      "display_name": "Python 3"
    },
    "language_info": {
      "name": "python"
    }
  },
  "cells": [
    {
      "cell_type": "markdown",
      "source": [
        "# Homework Assignment: Homework #1 - Machine Learning with Python\n",
        "\n",
        "Due Date: September 21, 2023, at 9:00 AM"
      ],
      "metadata": {
        "id": "9kmJet7emvou"
      }
    },
    {
      "cell_type": "markdown",
      "source": [
        "## *1*. Find Prime Numbers\n",
        "(a) Method 1: Using a Simple Prime Checking Function\n",
        "\n",
        "Write a Python program to find all prime numbers less than or equal to a positive integer 'n' (where 'n' is greater than or equal to 2) without relying on external libraries. Test this program for the value 'n' set to 50.\n",
        "\n",
        "(b) Method 2: Utilizing the Sieve of Eratosthenes Algorithm\n",
        "\n",
        "Develop another Python program to identify all prime numbers less than or equal to a given positive integer 'n' (where 'n' is greater than or equal to 2) without employing external libraries. Evaluate this program for the value 'n' set to 50.\n",
        "\n",
        "(c) Comparing Execution Time with %timeit for Large 'n'\n",
        "\n",
        "Employ the %timeit magic command to compare the execution time of both methods when running these Python programs with a substantial value of 'n,' specifically n = 10**6. This comparison will assess the efficiency of each method in finding prime numbers up to a significantly larger positive integer 'n' (where 'n' is equal to 1,000,000) without relying on external libraries.\n"
      ],
      "metadata": {
        "id": "bj_Us-LgxjBZ"
      }
    },
    {
      "cell_type": "code",
      "source": [
        "#1(a)\n",
        "#判斷數字是否為質數\n",
        "def is_prime(num):\n",
        "    if num <= 1: #1不是\n",
        "        return False\n",
        "    elif num <= 3: #2&3是\n",
        "        return True\n",
        "    elif num % 2 == 0 or num % 3 == 0: #被2&3整除的不是\n",
        "        return False\n",
        "    i = 5\n",
        "    while i * i <= num:\n",
        "        if num % i == 0 or num % (i + 2) == 0: #被(i||i+2)整除的不是(6n±1判斷法)\n",
        "            return False\n",
        "        i += 6\n",
        "    return True\n",
        "\n",
        "#建立質數列表\n",
        "def find_primes(n):\n",
        "    primes = []\n",
        "    for i in range(1, n + 1):\n",
        "        if is_prime(i):\n",
        "            primes.append(i) #如果當前數字是質數，加入list\n",
        "    return primes\n",
        "\n",
        "n = 50\n",
        "prime_numbers = find_primes(n)\n",
        "print(\"Prime numbers less than or equal to\", n, \"are:\")\n",
        "print(prime_numbers,\" ,by Simple Prime Checking Function\")"
      ],
      "metadata": {
        "id": "_2aEjHNjslub",
        "colab": {
          "base_uri": "https://localhost:8080/"
        },
        "outputId": "b422ad9c-1bcf-4c3f-df28-7f7b52d5e98e"
      },
      "execution_count": null,
      "outputs": [
        {
          "output_type": "stream",
          "name": "stdout",
          "text": [
            "Prime numbers less than or equal to 50 are:\n",
            "[2, 3, 5, 7, 11, 13, 17, 19, 23, 29, 31, 37, 41, 43, 47]  ,by Simple Prime Checking Function\n"
          ]
        }
      ]
    },
    {
      "cell_type": "code",
      "source": [
        "#1(b)\n",
        "def sieve_of_eratosthenes(n):\n",
        "    # 創建一個boolean list，索引對應數字，初始化所有元素為True\n",
        "    prime_flags = [True] * (n + 1)\n",
        "\n",
        "    # 0和1不是質數，因此將它們設置為False\n",
        "    prime_flags[0] = prime_flags[1] = False\n",
        "\n",
        "    # 開始從2遞增的循環，對每個質數p執行以下操作\n",
        "    p = 2\n",
        "    while p * p <= n:\n",
        "        if prime_flags[p]:\n",
        "            # 如果p是質數，則將所有p的倍數（不包括p本身）設置為False\n",
        "            for i in range(p * p, n + 1, p):\n",
        "                prime_flags[i] = False\n",
        "        p += 1\n",
        "\n",
        "    #在prime_flags中boolean value被設為True的是質數，將對應索引的數字添加進prime list\n",
        "    primes = [i for i in range(2, n + 1) if prime_flags[i]]\n",
        "    return primes\n",
        "\n",
        "n = 50\n",
        "\n",
        "# 使用the Sieve of Eratosthenes Algorithm找到小於等於n的所有質數\n",
        "prime_numbers = sieve_of_eratosthenes(n)\n",
        "print(\"Prime numbers less than or equal to\", n, \"are:\")\n",
        "print(prime_numbers,\" ,by the Sieve of Eratosthenes Algorithm\")\n"
      ],
      "metadata": {
        "colab": {
          "base_uri": "https://localhost:8080/"
        },
        "id": "WQx03wCn_M-J",
        "outputId": "d6adcda0-bb62-4021-a31a-a3c5f4298aa8"
      },
      "execution_count": null,
      "outputs": [
        {
          "output_type": "stream",
          "name": "stdout",
          "text": [
            "Prime numbers less than or equal to 50 are:\n",
            "[2, 3, 5, 7, 11, 13, 17, 19, 23, 29, 31, 37, 41, 43, 47]  ,by the Sieve of Eratosthenes Algorithm\n"
          ]
        }
      ]
    },
    {
      "cell_type": "code",
      "source": [
        "#1(c)\n",
        "#設定n = 1000000\n",
        "n=10**6\n",
        "#取得效率結果\n",
        "time_spent_a = %timeit -o find_primes(n)#-o使得結果可以存進變量、-n 10決定指定函數執行10次\n",
        "time_spent_b = %timeit -o sieve_of_eratosthenes(n)\n",
        "#取得效率結果平均進行比較，average後預設單位為s\n",
        "avg_a = time_spent_a.average\n",
        "avg_b = time_spent_b.average\n",
        "print(\"\\nThe average efficiency of method 1:\", round(avg_a * 1000, 4),\" ms\")\n",
        "print(\"The average efficiency of method 2:\", round(avg_b * 1000, 4),\" ms\\n\")\n",
        "\n",
        "if (avg_a > avg_b):\n",
        "  print(\"Method 2 is better than method 1, measured with n=1000000\")\n",
        "else:\n",
        "  print(\"Method 1 is better than method 2, measured with n=1000000\")"
      ],
      "metadata": {
        "colab": {
          "base_uri": "https://localhost:8080/"
        },
        "id": "2lJyE2L6_M2U",
        "outputId": "cb673793-ccab-4366-d39b-678ba5fd5f07"
      },
      "execution_count": null,
      "outputs": [
        {
          "output_type": "stream",
          "name": "stdout",
          "text": [
            "3.16 s ± 573 ms per loop (mean ± std. dev. of 7 runs, 1 loop each)\n",
            "205 ms ± 3.39 ms per loop (mean ± std. dev. of 7 runs, 1 loop each)\n",
            "\n",
            "The average efficiency of method 1: 3162.0133  ms\n",
            "The average efficiency of method 2: 204.8446  ms\n",
            "\n",
            "Method 2 is better than method 1, measured with n=1000000\n"
          ]
        }
      ]
    },
    {
      "cell_type": "markdown",
      "source": [
        "## *2*. Find Amicable Number Pairs\n",
        "\n",
        "Develop Python code to discover and list all amicable number pairs that are less than or equal to a specified integer 'n'. Additionally, utilize the %timeit magic command to measure and report the execution time of your program with n = 10**4.\n",
        "\n",
        "Amicable Numbers\n",
        "\n",
        "Let d(n) be defined as the sum of proper divisors of n (numbers less than which divide evenly into).\n",
        "If d(a) = b and d(b) = a, where a != b, then a and b are an amicable pair and each of a\n",
        " and b are called amicable numbers.\n",
        "\n",
        "For example, the proper divisors of 220\n",
        " are 1, 2, 4, 5, 10, 11, 20, 22, 44, 55 and 110;therefore d(220) = 284. The proper divisors of  \n",
        " are 1, 2, 4, 71 and 1142; so d(284) = 220."
      ],
      "metadata": {
        "id": "iwpJX2IYcF9e"
      }
    },
    {
      "cell_type": "code",
      "source": [
        "def n_factor_sum(n):#找出對應n的真因數和\n",
        "  factor=[]\n",
        "  for i in range(1,n+1):\n",
        "    if n%i == 0 and i != n:\n",
        "      factor.append(i)\n",
        "  return [n,sum(factor)] #回傳[n,真因數和]\n",
        "\n",
        "def find_all(n):#找出所有<=n的值其真因數和，並存進list\n",
        "  all_factor_sum=[]\n",
        "  for i in range(1,n+1):\n",
        "    all_factor_sum.append(n_factor_sum(i))\n",
        "  return all_factor_sum\n",
        "\n",
        "def amicable_num_pair(n):\n",
        "  pair=[]\n",
        "  each = find_all(n)\n",
        "  for i in range(n):\n",
        "    for j in range(n):\n",
        "      #判斷出值與另一個值真因數和相等，反之也要相等，且兩個值不能相等\n",
        "      if each[i][0] == each[j][1] and each[i][1] == each[j][0] and each[j][0] != each[j][1]:\n",
        "        pair.append(sorted([each[i][0],each[j][0]]))#pair不考慮順序視為同一個\n",
        "        break\n",
        "  #建立去除刪除重複pair的list\n",
        "  clearly_pair=[]\n",
        "  for k in pair:\n",
        "    if k not in clearly_pair:\n",
        "      clearly_pair.append(k)\n",
        "  return clearly_pair\n",
        "\n",
        "print(\"When n=10**4, the Amicable Number pair include:\\n\", amicable_num_pair(10**4))\n",
        "#測試執行時間\n",
        "exe_time = %timeit -o amicable_num_pair(10**4)\n",
        "print(\"Average execution time is \", round(exe_time.average, 4), \" s, when n=10**4\")"
      ],
      "metadata": {
        "id": "R2OWFUm0e37E",
        "colab": {
          "base_uri": "https://localhost:8080/"
        },
        "outputId": "74cf7a81-4bd0-4d70-8fc9-e48961627fcb"
      },
      "execution_count": null,
      "outputs": [
        {
          "output_type": "stream",
          "name": "stdout",
          "text": [
            "When n=10**4, the Amicable Number pair include:\n",
            " [[220, 284], [1184, 1210], [2620, 2924], [5020, 5564], [6232, 6368]]\n",
            "18.2 s ± 622 ms per loop (mean ± std. dev. of 7 runs, 1 loop each)\n",
            "Average execution time is  18.231  s, when n=10**4\n"
          ]
        }
      ]
    },
    {
      "cell_type": "markdown",
      "source": [
        "## *3*. Remove Duplicates from Sorted Array\n",
        "\n",
        "Given an integer array nums sorted in non-decreasing order, remove the duplicates in-place such that each unique element appears only once. The relative order of the elements should be kept the same. Then return the number of unique elements in nums.\n",
        "\n",
        "Consider the number of unique elements of nums to be k, to get accepted, you need to do the following things:\n",
        "\n",
        "Change the array nums such that the first k elements of nums contain the unique elements in the order they were present in nums initially. The remaining elements of nums are not important as well as the size of nums.\n",
        "Return k.\n",
        "\n",
        "Example 1:\n",
        "\n",
        "Input: nums = [1,1,2]\n",
        "\n",
        "Output: 2, nums = [1,2,_]\n",
        "\n",
        "Explanation: Your function should return k = 2, with the first two elements of nums being 1 and 2 respectively.\n",
        "It does not matter what you leave beyond the returned k (hence they are underscores).\n",
        "\n",
        "Example 2:\n",
        "\n",
        "Input: nums = [0,0,1,1,1,2,2,3,3,4]\n",
        "\n",
        "Output: 5, nums = [0,1,2,3,4,_,_,_,_,_]\n",
        "\n",
        "Explanation: Your function should return k = 5, with the first five elements of nums being 0, 1, 2, 3, and 4 respectively.\n",
        "It does not matter what you leave beyond the returned k (hence they are underscores)."
      ],
      "metadata": {
        "id": "Z-6MzIDIzVv-"
      }
    },
    {
      "cell_type": "code",
      "source": [
        "def removeDuplicates(nums):\n",
        "  k = 1  #用於紀錄唯一元素的數量\n",
        "  for i in range(1, len(nums)):\n",
        "    if nums[i] != nums[i - 1]:\n",
        "      nums[k] = nums[i] #把新找到的元素放在索引為k的位置\n",
        "      k += 1 #把唯一元素增加1\n",
        "\n",
        "  # 將重複值後面的元素替換為_\n",
        "  for i in range(k, len(nums)):#把第k個之後的元素替換成\"\"\n",
        "    nums[i] = \"_\"\n",
        "  return k, nums\n"
      ],
      "metadata": {
        "id": "UE6Kdl342SA1"
      },
      "execution_count": 18,
      "outputs": []
    },
    {
      "cell_type": "code",
      "source": [
        "nums1 = [1,1,2]\n",
        "nums2 = [0,0,1,1,1,2,2,3,3,4]\n",
        "print(\"For nums = \", nums1)\n",
        "print(\"k = \", removeDuplicates(nums1)[0],\", output nums = \", removeDuplicates(nums1)[1])\n",
        "print(\"For nums = \", nums2)\n",
        "print(\"k = \", removeDuplicates(nums2)[0],\", output nums = \", removeDuplicates(nums2)[1])"
      ],
      "metadata": {
        "colab": {
          "base_uri": "https://localhost:8080/"
        },
        "id": "S--K9lzNU6jj",
        "outputId": "b9b5ec17-7eaf-4d2e-d34f-245eaf06a0e5"
      },
      "execution_count": 19,
      "outputs": [
        {
          "output_type": "stream",
          "name": "stdout",
          "text": [
            "For nums =  [1, 1, 2]\n",
            "k =  2 , output nums =  [1, 2, '_']\n",
            "For nums =  [0, 0, 1, 1, 1, 2, 2, 3, 3, 4]\n",
            "k =  5 , output nums =  [0, 1, 2, 3, 4, '_', '_', '_', '_', '_']\n"
          ]
        }
      ]
    },
    {
      "cell_type": "markdown",
      "source": [
        "## *4*. Length of Longest Substring without Repeating Characters\n",
        "\n",
        "Given a string s, find the length of the longest\n",
        "substring\n",
        " without repeating characters.\n",
        "\n",
        "\n",
        "\n",
        "Example 1:\n",
        "\n",
        "Input: s = \"abcabcbb\"\n",
        "Output: 3\n",
        "Explanation: The answer is \"abc\", with the length of 3.\n",
        "\n",
        "Example 2:\n",
        "\n",
        "Input: s = \"bbbbb\"\n",
        "Output: 1\n",
        "Explanation: The answer is \"b\", with the length of 1.\n",
        "\n",
        "Example 3:\n",
        "\n",
        "Input: s = \"pwwkew\"\n",
        "Output: 3\n",
        "Explanation: The answer is \"wke\", with the length of 3.\n",
        "Notice that the answer must be a substring, \"pwke\" is a subsequence and not a substring."
      ],
      "metadata": {
        "id": "krro4kQb6c8w"
      }
    },
    {
      "cell_type": "code",
      "source": [
        "def longest_substring(s):\n",
        "    char_last_seen = {}  # 建立dict，儲存字符最後一次出現的位置\n",
        "    max_length = 0  # 紀錄最長substring的長度\n",
        "    start = 0  # 紀錄當前substring的起始位置\n",
        "    max_substring = \"\"  # 紀錄找到最長的substring\n",
        "\n",
        "    for i, char in enumerate(s):\n",
        "        if char in char_last_seen and char_last_seen[char] >= start:\n",
        "            # 如果字符已經在當前substring中出現過，且出現位置在當前substring內，則更新起始位置，以確保substring中沒有重複字符\n",
        "            start = char_last_seen[char] + 1\n",
        "        char_last_seen[char] = i  # 更新字符最後一次出現的位置\n",
        "        current_substring = s[start:i+1]  # 取得最新的substring\n",
        "        if len(current_substring) > max_length:\n",
        "            # 更新最長substring以及其長度\n",
        "            max_length = len(current_substring)\n",
        "            max_substring = current_substring\n",
        "\n",
        "    return max_substring, max_length\n",
        "\n",
        "s1 = \"abcabcbb\"\n",
        "s2 = \"bbbbb\"\n",
        "s3 = \"pwwkew\"\n",
        "print(\"For \", s1, \", Answer is \", longest_substring(s1)[0], ', with the length of ', longest_substring(s1)[1])\n",
        "print(\"For \", s2, \", Answer is \", longest_substring(s2)[0], ', with the length of ', longest_substring(s2)[1])\n",
        "print(\"For \", s3, \", Answer is \", longest_substring(s3)[0], ', with the length of ', longest_substring(s3)[1])"
      ],
      "metadata": {
        "id": "7IcAG4yZ746L",
        "colab": {
          "base_uri": "https://localhost:8080/"
        },
        "outputId": "74ab4305-bbdf-45f2-e42f-2bf400df2900"
      },
      "execution_count": 36,
      "outputs": [
        {
          "output_type": "stream",
          "name": "stdout",
          "text": [
            "For  abcabcbb , Answer is  abc , with the length of  3\n",
            "For  bbbbb , Answer is  b , with the length of  1\n",
            "For  pwwkew , Answer is  wke , with the length of  3\n"
          ]
        }
      ]
    },
    {
      "cell_type": "markdown",
      "source": [
        "## *5*. Calculate Word Frequencies in Abraham Lincoln's Gettysburg Address\n",
        "\n",
        "Write a Python program using the re library to calculate the frequency of each word in Abraham Lincoln's Gettysburg Address. Sort the output by descending frequency, so that the most frequent words appear first."
      ],
      "metadata": {
        "id": "NVmEjcHs-_Ez"
      }
    },
    {
      "cell_type": "code",
      "source": [
        "# Abraham Lincoln's Gettysburg Address as a string\n",
        "Abraham_Lincoln_Gettysburg_Address = '''Four score and seven years ago our fathers brought forth on this continent, a new nation, conceived in Liberty, and dedicated to the proposition that all men are created equal.\n",
        "\n",
        "Now we are engaged in a great civil war, testing whether that nation, or any nation so conceived and so dedicated, can long endure. We are met on a great battle-field of that war. We have come to dedicate a portion of that field, as a final resting place for those who here gave their lives that that nation might live. It is altogether fitting and proper that we should do this.\n",
        "\n",
        "But, in a larger sense, we can not dedicate -- we can not consecrate -- we can not hallow -- this ground. The brave men, living and dead, who struggled here, have consecrated it, far above our poor power to add or detract. The world will little note, nor long remember what we say here, but it can never forget what they did here. It is for us the living, rather, to be dedicated here to the unfinished work which they who fought here have thus far so nobly advanced. It is rather for us to be here dedicated to the great task remaining before us -- that from these honored dead we take increased devotion to that cause for which they gave the last full measure of devotion -- that we here highly resolve that these dead shall not have died in vain -- that this nation, under God, shall have a new birth of freedom -- and that government of the people, by the people, for the people, shall not perish from the earth.\n",
        "\n",
        "Abraham Lincoln\n",
        "November 19, 1863\n",
        "'''  # The full text of the address is provided here\n",
        "\n",
        "import re  # Import the 're' library for regular expressions\n",
        "\n",
        "words = re.findall(r'\\w+', Abraham_Lincoln_Gettysburg_Address.lower())#分割文字內容\n",
        "\n",
        "# 建立dict儲存單字出現的次數\n",
        "word_freq = {}\n",
        "for word in words:\n",
        "    if word in word_freq:\n",
        "        word_freq[word] += 1\n",
        "    else:\n",
        "        word_freq[word] = 1\n",
        "\n",
        "# 按照次數降冪排序dict\n",
        "sorted_word_freq = sorted(word_freq.items(), key=lambda x: x[1], reverse=True)\n",
        "\n",
        "for word, freq in sorted_word_freq:\n",
        "    print(f\"{word}: {freq}\")"
      ],
      "metadata": {
        "id": "3Zwkv82dDhxZ",
        "colab": {
          "base_uri": "https://localhost:8080/"
        },
        "outputId": "8af933ee-1fa4-45d6-f228-ddb2801b6ff9"
      },
      "execution_count": 42,
      "outputs": [
        {
          "output_type": "stream",
          "name": "stdout",
          "text": [
            "that: 13\n",
            "the: 11\n",
            "we: 10\n",
            "to: 8\n",
            "here: 8\n",
            "a: 7\n",
            "and: 6\n",
            "nation: 5\n",
            "can: 5\n",
            "of: 5\n",
            "have: 5\n",
            "for: 5\n",
            "it: 5\n",
            "not: 5\n",
            "this: 4\n",
            "in: 4\n",
            "dedicated: 4\n",
            "are: 3\n",
            "great: 3\n",
            "so: 3\n",
            "who: 3\n",
            "is: 3\n",
            "dead: 3\n",
            "they: 3\n",
            "us: 3\n",
            "shall: 3\n",
            "people: 3\n",
            "our: 2\n",
            "on: 2\n",
            "new: 2\n",
            "conceived: 2\n",
            "men: 2\n",
            "war: 2\n",
            "or: 2\n",
            "long: 2\n",
            "field: 2\n",
            "dedicate: 2\n",
            "gave: 2\n",
            "but: 2\n",
            "living: 2\n",
            "far: 2\n",
            "what: 2\n",
            "rather: 2\n",
            "be: 2\n",
            "which: 2\n",
            "from: 2\n",
            "these: 2\n",
            "devotion: 2\n",
            "four: 1\n",
            "score: 1\n",
            "seven: 1\n",
            "years: 1\n",
            "ago: 1\n",
            "fathers: 1\n",
            "brought: 1\n",
            "forth: 1\n",
            "continent: 1\n",
            "liberty: 1\n",
            "proposition: 1\n",
            "all: 1\n",
            "created: 1\n",
            "equal: 1\n",
            "now: 1\n",
            "engaged: 1\n",
            "civil: 1\n",
            "testing: 1\n",
            "whether: 1\n",
            "any: 1\n",
            "endure: 1\n",
            "met: 1\n",
            "battle: 1\n",
            "come: 1\n",
            "portion: 1\n",
            "as: 1\n",
            "final: 1\n",
            "resting: 1\n",
            "place: 1\n",
            "those: 1\n",
            "their: 1\n",
            "lives: 1\n",
            "might: 1\n",
            "live: 1\n",
            "altogether: 1\n",
            "fitting: 1\n",
            "proper: 1\n",
            "should: 1\n",
            "do: 1\n",
            "larger: 1\n",
            "sense: 1\n",
            "consecrate: 1\n",
            "hallow: 1\n",
            "ground: 1\n",
            "brave: 1\n",
            "struggled: 1\n",
            "consecrated: 1\n",
            "above: 1\n",
            "poor: 1\n",
            "power: 1\n",
            "add: 1\n",
            "detract: 1\n",
            "world: 1\n",
            "will: 1\n",
            "little: 1\n",
            "note: 1\n",
            "nor: 1\n",
            "remember: 1\n",
            "say: 1\n",
            "never: 1\n",
            "forget: 1\n",
            "did: 1\n",
            "unfinished: 1\n",
            "work: 1\n",
            "fought: 1\n",
            "thus: 1\n",
            "nobly: 1\n",
            "advanced: 1\n",
            "task: 1\n",
            "remaining: 1\n",
            "before: 1\n",
            "honored: 1\n",
            "take: 1\n",
            "increased: 1\n",
            "cause: 1\n",
            "last: 1\n",
            "full: 1\n",
            "measure: 1\n",
            "highly: 1\n",
            "resolve: 1\n",
            "died: 1\n",
            "vain: 1\n",
            "under: 1\n",
            "god: 1\n",
            "birth: 1\n",
            "freedom: 1\n",
            "government: 1\n",
            "by: 1\n",
            "perish: 1\n",
            "earth: 1\n",
            "abraham: 1\n",
            "lincoln: 1\n",
            "november: 1\n",
            "19: 1\n",
            "1863: 1\n"
          ]
        }
      ]
    }
  ]
}