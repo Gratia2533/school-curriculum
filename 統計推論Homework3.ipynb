{
  "nbformat": 4,
  "nbformat_minor": 0,
  "metadata": {
    "colab": {
      "provenance": []
    },
    "kernelspec": {
      "name": "python3",
      "display_name": "Python 3"
    },
    "language_info": {
      "name": "python"
    }
  },
  "cells": [
    {
      "cell_type": "markdown",
      "source": [
        "#統計推論 Homework3\n",
        "\n",
        "##應數碩一 M112040034 李祐瑄"
      ],
      "metadata": {
        "id": "QO6fpOZQlmT2"
      }
    },
    {
      "cell_type": "markdown",
      "source": [
        "###1.自行按公式寫出Bonferroni、Holm's與FDR調整p-value的函式，並應用於w07投影片第41頁的例子。 "
      ],
      "metadata": {
        "id": "Pf4HXwNYl1Hv"
      }
    },
    {
      "cell_type": "markdown",
      "source": [
        "匯入p-values 以及指定 α"
      ],
      "metadata": {
        "id": "ND9qQklEmIOM"
      }
    },
    {
      "cell_type": "code",
      "execution_count": 1,
      "metadata": {
        "id": "7jOAWd8MldRD"
      },
      "outputs": [],
      "source": [
        "import numpy as np\n",
        "p_values = np.array([0.0001, 0.0058, 0.0132, 0.0289, 0.0498, 0.0911, 0.2012, 0.5718, 0.8912, 0.9011])\n",
        "n = len(p_values)\n",
        "alpha = 0.05"
      ]
    },
    {
      "cell_type": "markdown",
      "source": [
        "Bonferroni bound\n",
        "\n",
        "輸出為拒絕哪個假設，以及不拒絕那個假設\n",
        "\n",
        "最後輸出指拒絕了第一個假設"
      ],
      "metadata": {
        "id": "3DFeC8J3mVc_"
      }
    },
    {
      "cell_type": "code",
      "source": [
        "#%%Bonferroni bound\n",
        "print(\"----------Bonferroni bound----------\")\n",
        "# 計算 Bonferroni 校正後的閾值\n",
        "bonferroni_threshold = alpha / n\n",
        "print(\"threshold = \", bonferroni_threshold)\n",
        "# 檢查每個 p-value 是否小於 Bonferroni 校正後的閾值\n",
        "def bonferroni (p_value_arr):\n",
        "    bonff_rejected_hypo=[]\n",
        "    bonferroni_threshold = alpha / n\n",
        "    for i, p in enumerate(p_value_arr):\n",
        "        if p <= bonferroni_threshold:\n",
        "            print(f\"Reject null hypothesis {i+1} for p-value = {p}\")\n",
        "            bonff_rejected_hypo.append(i+1)\n",
        "        else:\n",
        "            print(f\"Fail to reject null hypothesis {i+1} for p-value = {p}\")\n",
        "    return bonff_rejected_hypo\n",
        "\n",
        "print('the rejected null hypothesis by bonferroni bound:', bonferroni(p_values))"
      ],
      "metadata": {
        "colab": {
          "base_uri": "https://localhost:8080/",
          "height": 0
        },
        "id": "fDBVwtjymam-",
        "outputId": "67a05cf1-418a-4cc0-a370-2c38925db855"
      },
      "execution_count": 2,
      "outputs": [
        {
          "output_type": "stream",
          "name": "stdout",
          "text": [
            "----------Bonferroni bound----------\n",
            "threshold =  0.005\n",
            "Reject null hypothesis 1 for p-value = 0.0001\n",
            "Fail to reject null hypothesis 2 for p-value = 0.0058\n",
            "Fail to reject null hypothesis 3 for p-value = 0.0132\n",
            "Fail to reject null hypothesis 4 for p-value = 0.0289\n",
            "Fail to reject null hypothesis 5 for p-value = 0.0498\n",
            "Fail to reject null hypothesis 6 for p-value = 0.0911\n",
            "Fail to reject null hypothesis 7 for p-value = 0.2012\n",
            "Fail to reject null hypothesis 8 for p-value = 0.5718\n",
            "Fail to reject null hypothesis 9 for p-value = 0.8912\n",
            "Fail to reject null hypothesis 10 for p-value = 0.9011\n",
            "the rejected null hypothesis by bonferroni bound: [1]\n"
          ]
        }
      ]
    },
    {
      "cell_type": "markdown",
      "source": [
        "Holm's procedure\n",
        "\n",
        "輸出為拒絕哪個假設，以及不拒絕那個假設\n",
        "\n",
        "最後輸出指拒絕了第一個假設"
      ],
      "metadata": {
        "id": "rIpHUE4tnTPU"
      }
    },
    {
      "cell_type": "code",
      "source": [
        "#%%Holm's procedure\n",
        "print(\"----------Holm's procedure----------\")\n",
        "# Step 1: 排序p-value\n",
        "sorted_indices = np.argsort(p_values)\n",
        "sorted_p_values = p_values[sorted_indices]\n",
        "print(\"sorted p-value:\", sorted_p_values)\n",
        "print(\"original index of sorted p-values\", sorted_indices+1)\n",
        "# Step 2: 計算調整過後的alpha for each hypothesis\n",
        "thresholds = np.round(alpha / (n - np.arange(n)), 5)\n",
        "\n",
        "def holm (sorted_array):\n",
        "    # Step 3: apply Holm's procedure\n",
        "    rejected = np.zeros_like(sorted_p_values, dtype=bool) # initialize to all false\n",
        "    for i in range(n):\n",
        "        if sorted_p_values[i] <= thresholds[i]:\n",
        "            rejected[i] = True\n",
        "        else:\n",
        "            break # 找到第一個不拒絕的就停止\n",
        "    holm_rejected_hypo=[]\n",
        "    # print the results\n",
        "    for i in range(n):\n",
        "        if rejected[i]:\n",
        "            print(f\"Reject null hypothesis {sorted_indices[i]+1} with p-value {p_values[sorted_indices[i]]:} ≦ threshold = {thresholds[i]}\")\n",
        "            holm_rejected_hypo.append(sorted_indices[i]+1)\n",
        "        else:\n",
        "            print(f\"Fail to reject null hypothesis {sorted_indices[i]+1} with p-value {p_values[sorted_indices[i]]:}.\")\n",
        "    return holm_rejected_hypo\n",
        "\n",
        "print(\"the rejected null hypothesis by holm's procedure:\", holm(sorted_p_values))"
      ],
      "metadata": {
        "colab": {
          "base_uri": "https://localhost:8080/",
          "height": 0
        },
        "id": "5VQ2FXR3nWci",
        "outputId": "f396edc9-3d84-4712-ae0a-6c24596e94b6"
      },
      "execution_count": 3,
      "outputs": [
        {
          "output_type": "stream",
          "name": "stdout",
          "text": [
            "\n",
            "----------Holm's procedure----------\n",
            "sorted p-value: [1.000e-04 5.800e-03 1.320e-02 2.890e-02 4.980e-02 9.110e-02 2.012e-01\n",
            " 5.718e-01 8.912e-01 9.011e-01]\n",
            "original index of sorted p-values [ 1  2  3  4  5  6  7  8  9 10]\n",
            "Reject null hypothesis 1 with p-value 0.0001 ≦ threshold = 0.005\n",
            "Fail to reject null hypothesis 2 with p-value 0.0058.\n",
            "Fail to reject null hypothesis 3 with p-value 0.0132.\n",
            "Fail to reject null hypothesis 4 with p-value 0.0289.\n",
            "Fail to reject null hypothesis 5 with p-value 0.0498.\n",
            "Fail to reject null hypothesis 6 with p-value 0.0911.\n",
            "Fail to reject null hypothesis 7 with p-value 0.2012.\n",
            "Fail to reject null hypothesis 8 with p-value 0.5718.\n",
            "Fail to reject null hypothesis 9 with p-value 0.8912.\n",
            "Fail to reject null hypothesis 10 with p-value 0.9011.\n",
            "the rejected null hypothesis by holm's procedure: [1]\n"
          ]
        }
      ]
    },
    {
      "cell_type": "markdown",
      "source": [
        "FDR adjust\n",
        "\n",
        "最後的輸出為經過FDR調整後的p-values"
      ],
      "metadata": {
        "id": "vSj2YgPVn-ih"
      }
    },
    {
      "cell_type": "code",
      "source": [
        "#%%FDR\n",
        "print(\"----------FDR control----------\")\n",
        "def fdr_adjust(p_values):\n",
        "\n",
        "    m = len(p_values)\n",
        "    #將p-values的順序倒轉\n",
        "    flip_p_values = np.flip(p_values)\n",
        "    adjusted_p_values=np.array([])\n",
        "    for i in range(m):\n",
        "        if i == 0 :\n",
        "            adjusted_p_values = np.append(adjusted_p_values, flip_p_values[i])\n",
        "        else:\n",
        "            #與調整後的p值做比較，較小的存入array\n",
        "            adjusted_p_values = np.append(adjusted_p_values, min(adjusted_p_values[i-1], flip_p_values[i]*m/(10-i)))\n",
        "    \n",
        "    adjusted_p_values = np.round(adjusted_p_values, 4)\n",
        "    #將調整後的p值倒轉回原來的順序以供返回\n",
        "    result = np.flip(adjusted_p_values)\n",
        "    \n",
        "    return result\n",
        "\n",
        "print(\"the p-values adjusted by FDR:\\n\",fdr_adjust(p_values))"
      ],
      "metadata": {
        "colab": {
          "base_uri": "https://localhost:8080/",
          "height": 0
        },
        "id": "cNX__4dGoAyY",
        "outputId": "45f6840d-ee03-4528-c199-9ac6d823e49f"
      },
      "execution_count": 5,
      "outputs": [
        {
          "output_type": "stream",
          "name": "stdout",
          "text": [
            "----------FDR control----------\n",
            "the p-values adjusted by FDR:\n",
            " [0.001  0.029  0.044  0.0722 0.0996 0.1518 0.2874 0.7148 0.9011 0.9011]\n"
          ]
        }
      ]
    },
    {
      "cell_type": "markdown",
      "source": [
        "###2.根據w10投影片第19頁 a,b,c,d 的設定，在疾病發生率為 20% 與 0.01% 兩種情形下，計算Sensitivity、Specificity、PPV、NPV、PLR與NLR "
      ],
      "metadata": {
        "id": "r9qQxoYaotGW"
      }
    },
    {
      "cell_type": "code",
      "source": [],
      "metadata": {
        "id": "x90CcBeQpH9b"
      },
      "execution_count": null,
      "outputs": []
    },
    {
      "cell_type": "markdown",
      "source": [
        "###3.寫出 w11投影片第25頁Partial Correlation樣本版本的兩種公式(第一種是把第一式中的rho換成r，第二種已經給在第二、三個式子)，並找一個資料的例子，說明兩個公式會得到一樣的結果。"
      ],
      "metadata": {
        "id": "ATOX6EfMpIdM"
      }
    },
    {
      "cell_type": "code",
      "source": [],
      "metadata": {
        "id": "DdQaBsxCpc4R"
      },
      "execution_count": null,
      "outputs": []
    }
  ]
}